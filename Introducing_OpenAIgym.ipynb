{
 "cells": [
  {
   "cell_type": "markdown",
   "metadata": {},
   "source": [
    "## Import Packages\n",
    "The gym library is a collection of test problems — environments — for reinforcement learning algorithms. "
   ]
  },
  {
   "cell_type": "code",
   "execution_count": null,
   "metadata": {},
   "outputs": [],
   "source": [
    "import gym\n",
    "import random"
   ]
  },
  {
   "cell_type": "markdown",
   "metadata": {},
   "source": [
    "## Define Environment\n",
    "* Run an instance of the CartPole-v0 environment for a set number of timesteps, rendering the environment at each step. \n",
    "* Replace CartPole-v0 with something like Acrobot-v1, MountainCar-v0, Pendulum-v0 or FrozenLake-v0 to see some other environments in action."
   ]
  },
  {
   "cell_type": "code",
   "execution_count": null,
   "metadata": {},
   "outputs": [],
   "source": [
    "env = gym.make('CartPole-v0')"
   ]
  },
  {
   "cell_type": "markdown",
   "metadata": {},
   "source": [
    "## Render the environment\n",
    "* The process gets started by calling reset()\n",
    "* The render method will start the visualization.\n",
    "* Choose a random action from the action space.\n",
    "* The step method will perform the action. Step returns four values:\n",
    "    * observation (object): an environment-specific object representing your observation of the environment. \n",
    "    * reward (float): amount of reward achieved by the previous action. \n",
    "    * done (boolean): whether it’s time to reset the environment again. \n",
    "    * info (dict): diagnostic information useful for debugging. "
   ]
  },
  {
   "cell_type": "code",
   "execution_count": null,
   "metadata": {},
   "outputs": [],
   "source": [
    "for i in range(20):\n",
    "    env.reset()\n",
    "    for t in range(100):\n",
    "        env.render()\n",
    "        env.step(env.action_space.sample())"
   ]
  },
  {
   "cell_type": "markdown",
   "metadata": {},
   "source": [
    "## Close the rendering window"
   ]
  },
  {
   "cell_type": "code",
   "execution_count": null,
   "metadata": {},
   "outputs": [],
   "source": [
    "env.close()"
   ]
  },
  {
   "cell_type": "code",
   "execution_count": null,
   "metadata": {},
   "outputs": [],
   "source": []
  }
 ],
 "metadata": {
  "kernelspec": {
   "display_name": "Python 3",
   "language": "python",
   "name": "python3"
  },
  "language_info": {
   "codemirror_mode": {
    "name": "ipython",
    "version": 3
   },
   "file_extension": ".py",
   "mimetype": "text/x-python",
   "name": "python",
   "nbconvert_exporter": "python",
   "pygments_lexer": "ipython3",
   "version": "3.6.4"
  }
 },
 "nbformat": 4,
 "nbformat_minor": 2
}
