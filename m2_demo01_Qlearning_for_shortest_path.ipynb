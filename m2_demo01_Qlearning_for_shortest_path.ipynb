{
 "cells": [
  {
   "cell_type": "markdown",
   "metadata": {},
   "source": [
    "## Import packages\n",
    "* numpy - package for scientific computing with Python.\n",
    "* pylab - belongs to Matplotlib. PyLab combines numpy with the graphical plotting module pyplot.\n",
    "* networkX - Python package for the creating and manipulating complex networks."
   ]
  },
  {
   "cell_type": "code",
   "execution_count": null,
   "metadata": {},
   "outputs": [],
   "source": [
    "import numpy as np\n",
    "import pylab as plt\n",
    "import networkx as nx\n",
    "import pandas as pd"
   ]
  },
  {
   "cell_type": "markdown",
   "metadata": {},
   "source": [
    "## Define the environment\n",
    "* Create a points-list map that represents each direction the bot can take.\n",
    "* Starting point is 0, goal point is 7.\n",
    "* Extra added points and false paths are the obstacles "
   ]
  },
  {
   "cell_type": "code",
   "execution_count": null,
   "metadata": {},
   "outputs": [],
   "source": [
    "edge_list = [(0,2), (0,1), (0,3), (2,4), (5,6), (7,4), (0,6), (5,3), (3,7), (0,8)]"
   ]
  },
  {
   "cell_type": "code",
   "execution_count": null,
   "metadata": {},
   "outputs": [],
   "source": [
    "goal = 7"
   ]
  },
  {
   "cell_type": "markdown",
   "metadata": {},
   "source": [
    "## Plot the graph using networkx\n",
    "* Define a graph object.\n",
    "* add_edges_from() - Adds all edges from the passed in list parameter to the graph.\n",
    "* spring_layout() - Position nodes using Fruchterman-Reingold force-directed algorithm.\n",
    "* draw_networkx_nodes()- Draw the nodes of the graph G.\n",
    "* draw_networkx_edges()- Draw the edges of the graph G.\n",
    "* draw_networkx_labels()- Draw node labels on the graph G."
   ]
  },
  {
   "cell_type": "code",
   "execution_count": null,
   "metadata": {},
   "outputs": [],
   "source": [
    "G = nx.Graph()\n",
    "G.add_edges_from(edge_list)"
   ]
  },
  {
   "cell_type": "code",
   "execution_count": null,
   "metadata": {},
   "outputs": [],
   "source": [
    "position = nx.spring_layout(G)"
   ]
  },
  {
   "cell_type": "code",
   "execution_count": null,
   "metadata": {},
   "outputs": [],
   "source": [
    "nx.draw_networkx_nodes(G, position)\n",
    "nx.draw_networkx_edges(G, position)\n",
    "nx.draw_networkx_labels(G, position)\n",
    "plt.show()"
   ]
  },
  {
   "cell_type": "markdown",
   "metadata": {},
   "source": [
    "## Create the rewards graph \n",
    "* Create the matrix version of the list of points map.  \n",
    "* Initialize the matrix to be the height and width of our points list (9 in this example)\n",
    "* Initialize all values to -1\n",
    "* Change the values to be 0 if it is a viable path and 100 if it is a goal path\n",
    "* The y-axis is the state or where your bot is currently located, and the x-axis is your possible next actions. \n",
    "* Set gamma =0.8 as the discount factor\n",
    "* The -1's in the table represent null values i.e. where there isn't a link between nodes."
   ]
  },
  {
   "cell_type": "code",
   "execution_count": null,
   "metadata": {},
   "outputs": [],
   "source": [
    "SIZE_MATRIX = 9"
   ]
  },
  {
   "cell_type": "code",
   "execution_count": null,
   "metadata": {},
   "outputs": [],
   "source": [
    "R = np.matrix(np.ones(shape=(SIZE_MATRIX, SIZE_MATRIX)))\n",
    "R *= -1"
   ]
  },
  {
   "cell_type": "code",
   "execution_count": null,
   "metadata": {},
   "outputs": [],
   "source": [
    "for edge in edge_list:\n",
    "    print(edge)\n",
    "    if edge[1] == goal:\n",
    "        R[edge] = 100\n",
    "    else:\n",
    "        R[edge] = 0\n",
    "    # reverse of point\n",
    "    if edge[0] == goal:\n",
    "         R[edge[::-1]] = 100\n",
    "    else:\n",
    "        R[edge[::-1]]= 0"
   ]
  },
  {
   "cell_type": "code",
   "execution_count": null,
   "metadata": {},
   "outputs": [],
   "source": [
    "R[goal, goal]= 100"
   ]
  },
  {
   "cell_type": "code",
   "execution_count": null,
   "metadata": {},
   "outputs": [],
   "source": [
    "R"
   ]
  },
  {
   "cell_type": "code",
   "execution_count": null,
   "metadata": {},
   "outputs": [],
   "source": [
    "gamma = 0.8"
   ]
  },
  {
   "cell_type": "markdown",
   "metadata": {},
   "source": [
    "## Build Q learning matrix\n",
    "* Build the matrix. The agent starts out knowing nothing, the matrix Q is initialized to zero.\n",
    "* Define the following methods :\n",
    "    * available_actions - returns all available actions in the state given as an argument\n",
    "    * sample_next_action - chooses at random which action to be performed within the range of all the available actions.\n",
    "    * update - updates the Q matrix according to the path selected and the Q learning algorithm\n",
    "* The transition rule of Q learning is : Q(state, action) = R(state, action) + Gamma * Max[Q(next state, all actions)]\n",
    "* According to this formula, a value assigned to a specific element of matrix Q, is equal to the sum of the corresponding value in matrix R and the learning parameter Gamma, multiplied by the maximum value of Q for all possible actions in the next state.\n",
    "* Matrix Q, can be normalized (i.e.; converted to percentage) by dividing all non-zero entries by the highest number."
   ]
  },
  {
   "cell_type": "code",
   "execution_count": null,
   "metadata": {},
   "outputs": [],
   "source": [
    "Q = np.matrix(np.zeros([SIZE_MATRIX, SIZE_MATRIX]))"
   ]
  },
  {
   "cell_type": "code",
   "execution_count": null,
   "metadata": {},
   "outputs": [],
   "source": [
    "Q"
   ]
  },
  {
   "cell_type": "code",
   "execution_count": null,
   "metadata": {},
   "outputs": [],
   "source": [
    "pd.DataFrame(Q)"
   ]
  },
  {
   "cell_type": "code",
   "execution_count": null,
   "metadata": {},
   "outputs": [],
   "source": [
    "def get_available_actions(state):\n",
    "    current_state_row = R[state,]\n",
    "    available_actions = np.where(current_state_row >= 0)[1]\n",
    "    \n",
    "    return available_actions"
   ]
  },
  {
   "cell_type": "code",
   "execution_count": null,
   "metadata": {},
   "outputs": [],
   "source": [
    "def sample_next_action(available_actions):\n",
    "    next_action = int(np.random.choice(available_actions, size=1))\n",
    "    \n",
    "    return next_action"
   ]
  },
  {
   "cell_type": "markdown",
   "metadata": {},
   "source": [
    "np.where returns a tuple of ndarrays where the output array contains elements of x where condition is True. \n",
    "We pick the second element of the tuple which is a list of states where the reward is highest. \n",
    "If there are multiple states where the reward is highest, we pick one state at random."
   ]
  },
  {
   "cell_type": "code",
   "execution_count": null,
   "metadata": {},
   "outputs": [],
   "source": [
    "def update(current_state, action, gamma):\n",
    "    \n",
    "    max_index = np.where(Q[action, ] == np.max(Q[action, ]))[1] \n",
    "#     print(np.where(Q[action, ] == np.max(Q[action, ])))\n",
    "#     print(np.where(Q[action, ] == np.max(Q[action, ]))[1])\n",
    "#     print(max_index.shape[0])\n",
    "    \n",
    "    print('max_index', max_index.shape)\n",
    "\n",
    "    if max_index.shape[0] > 1:\n",
    "        max_index = int(np.random.choice(max_index, size = 1))\n",
    "    else:\n",
    "        max_index = int(max_index)\n",
    "    max_value = Q[action, max_index]\n",
    "\n",
    "    Q[current_state, action] = R[current_state, action] + gamma * max_value\n",
    "    \n",
    "    print('max_value', R[current_state, action] + gamma * max_value)\n",
    "  "
   ]
  },
  {
   "cell_type": "markdown",
   "metadata": {},
   "source": [
    "## Start traversal\n",
    "* Get available actions in the initial state and the sample next action to be performed\n",
    "* Update the Q matrix\n"
   ]
  },
  {
   "cell_type": "code",
   "execution_count": null,
   "metadata": {},
   "outputs": [],
   "source": [
    "initial_state = 0"
   ]
  },
  {
   "cell_type": "code",
   "execution_count": null,
   "metadata": {},
   "outputs": [],
   "source": [
    "available_actions = get_available_actions(initial_state) "
   ]
  },
  {
   "cell_type": "code",
   "execution_count": null,
   "metadata": {},
   "outputs": [],
   "source": [
    "print(available_actions)"
   ]
  },
  {
   "cell_type": "code",
   "execution_count": null,
   "metadata": {},
   "outputs": [],
   "source": [
    "action = sample_next_action(available_actions)"
   ]
  },
  {
   "cell_type": "code",
   "execution_count": null,
   "metadata": {},
   "outputs": [],
   "source": [
    "print(action)"
   ]
  },
  {
   "cell_type": "code",
   "execution_count": null,
   "metadata": {},
   "outputs": [],
   "source": [
    "update(initial_state, action, gamma)"
   ]
  },
  {
   "cell_type": "markdown",
   "metadata": {},
   "source": [
    "## Training\n",
    "* Train over 700 iterations.\n",
    "* Select a random initial state.\n",
    "* While the goal state hasn't been reached.\n",
    "    * Select one among all possible actions for the current state.\n",
    "    * Using this possible action, consider going to the next state.\n",
    "    * Get maximum Q value for this next state based on all possible actions.\n",
    "    * Set the next state as the current state.\n",
    "* Normalize the trained Q matrix"
   ]
  },
  {
   "cell_type": "code",
   "execution_count": null,
   "metadata": {},
   "outputs": [],
   "source": [
    "scores = []"
   ]
  },
  {
   "cell_type": "code",
   "execution_count": null,
   "metadata": {},
   "outputs": [],
   "source": [
    "for i in range(700):\n",
    "    current_state = np.random.randint(0, int(Q.shape[0])) \n",
    "    \n",
    "    available_action = get_available_actions(current_state)\n",
    "    action = sample_next_action(available_action)\n",
    "\n",
    "    update(current_state, action, gamma)"
   ]
  },
  {
   "cell_type": "code",
   "execution_count": null,
   "metadata": {},
   "outputs": [],
   "source": [
    "print(\"Trained Q matrix:\")\n",
    "pd.DataFrame(Q)"
   ]
  },
  {
   "cell_type": "code",
   "execution_count": null,
   "metadata": {},
   "outputs": [],
   "source": [
    "print(\"Normalized Q matrix:\")\n",
    "pd.DataFrame(Q / np.max(Q) * 100)"
   ]
  },
  {
   "cell_type": "markdown",
   "metadata": {},
   "source": [
    "## Testing\n",
    "* Start from point 0 and find the most efficient path to point 7\n",
    "* In testing, the next action is chosen according to the highest Q value."
   ]
  },
  {
   "cell_type": "code",
   "execution_count": null,
   "metadata": {},
   "outputs": [],
   "source": [
    "current_state = 0\n",
    "steps = [current_state]"
   ]
  },
  {
   "cell_type": "code",
   "execution_count": null,
   "metadata": {},
   "outputs": [],
   "source": [
    "while current_state != 7:\n",
    "\n",
    "    next_step_index = np.where(Q[current_state,] == np.max(Q[current_state,]))[1]\n",
    "    \n",
    "#     print(np.where(Q[current_state,] == np.max(Q[current_state,])))\n",
    "#     print(np.where(Q[current_state,] == np.max(Q[current_state,]))[1])\n",
    "#     print(next_step_index.shape[0])\n",
    "    \n",
    "    if next_step_index.shape[0] > 1:\n",
    "        next_step_index = int(np.random.choice(next_step_index, size = 1))\n",
    "    else:\n",
    "        next_step_index = int(next_step_index)\n",
    "    \n",
    "    steps.append(next_step_index)\n",
    "    current_state = next_step_index"
   ]
  },
  {
   "cell_type": "code",
   "execution_count": null,
   "metadata": {},
   "outputs": [],
   "source": [
    "print(\"Most efficient path:\")\n",
    "print(steps)"
   ]
  },
  {
   "cell_type": "code",
   "execution_count": null,
   "metadata": {},
   "outputs": [],
   "source": []
  }
 ],
 "metadata": {
  "kernelspec": {
   "display_name": "Python 3",
   "language": "python",
   "name": "python3"
  },
  "language_info": {
   "codemirror_mode": {
    "name": "ipython",
    "version": 3
   },
   "file_extension": ".py",
   "mimetype": "text/x-python",
   "name": "python",
   "nbconvert_exporter": "python",
   "pygments_lexer": "ipython3",
   "version": "3.6.4"
  }
 },
 "nbformat": 4,
 "nbformat_minor": 2
}
